{
 "cells": [
  {
   "cell_type": "markdown",
   "id": "25d7736c-ba17-4aff-b6bb-66eba20fbf4e",
   "metadata": {},
   "source": [
    "# Lab | Error Handling"
   ]
  },
  {
   "cell_type": "markdown",
   "id": "bc99b386-7508-47a0-bcdb-d969deaf6c8b",
   "metadata": {},
   "source": [
    "## Exercise: Error Handling for Managing Customer Orders\n",
    "\n",
    "The implementation of your code for managing customer orders assumes that the user will always enter a valid input. \n",
    "\n",
    "For example, we could modify the `initialize_inventory` function to include error handling.\n",
    "   - If the user enters an invalid quantity (e.g., a negative value or a non-numeric value), display an error message and ask them to re-enter the quantity for that product.\n",
    "   - Use a try-except block to handle the error and continue prompting the user until a valid quantity is entered.\n",
    "\n",
    "```python\n",
    "# Step 1: Define the function for initializing the inventory with error handling\n",
    "def initialize_inventory(products):\n",
    "    inventory = {}\n",
    "    for product in products:\n",
    "        valid_quantity = False\n",
    "        while not valid_quantity:\n",
    "            try:\n",
    "                quantity = int(input(f\"Enter the quantity of {product}s available: \"))\n",
    "                if quantity < 0:\n",
    "                    raise ValueError(\"Invalid quantity! Please enter a non-negative value.\")\n",
    "                valid_quantity = True\n",
    "            except ValueError as error:\n",
    "                print(f\"Error: {error}\")\n",
    "        inventory[product] = quantity\n",
    "    return inventory\n",
    "\n",
    "# Or, in another way:\n",
    "\n",
    "def initialize_inventory(products):\n",
    "    inventory = {}\n",
    "    for product in products:\n",
    "        valid_input = False\n",
    "        while not valid_input:\n",
    "            try:\n",
    "                quantity = int(input(f\"Enter the quantity of {product}s available: \"))\n",
    "                if quantity >= 0:\n",
    "                    inventory[product] = quantity\n",
    "                    valid_input = True\n",
    "                else:\n",
    "                    print(\"Quantity cannot be negative. Please enter a valid quantity.\")\n",
    "            except ValueError:\n",
    "                print(\"Invalid input. Please enter a valid quantity.\")\n",
    "    return inventory\n",
    "```\n",
    "\n",
    "Let's enhance your code by implementing error handling to handle invalid inputs.\n",
    "\n",
    "Follow the steps below to complete the exercise:\n",
    "\n",
    "2. Modify the `calculate_total_price` function to include error handling.\n",
    "   - If the user enters an invalid price (e.g., a negative value or a non-numeric value), display an error message and ask them to re-enter the price for that product.\n",
    "   - Use a try-except block to handle the error and continue prompting the user until a valid price is entered.\n",
    "\n",
    "3. Modify the `get_customer_orders` function to include error handling.\n",
    "   - If the user enters an invalid number of orders (e.g., a negative value or a non-numeric value), display an error message and ask them to re-enter the number of orders.\n",
    "   - If the user enters an invalid product name (e.g., a product name that is not in the inventory), or that doesn't have stock available, display an error message and ask them to re-enter the product name. *Hint: you will need to pass inventory as a parameter*\n",
    "   - Use a try-except block to handle the error and continue prompting the user until a valid product name is entered.\n",
    "\n",
    "4. Test your code by running the program and deliberately entering invalid quantities and product names. Make sure the error handling mechanism works as expected.\n"
   ]
  },
  {
   "cell_type": "code",
   "execution_count": 1,
   "id": "d0085ecc-b803-4cec-8ee8-38fdd73f5d95",
   "metadata": {
    "scrolled": true
   },
   "outputs": [
    {
     "name": "stdin",
     "output_type": "stream",
     "text": [
      "Enter the quantity of t-shirts available:  0\n",
      "Enter the quantity of mugs available:  1\n",
      "Enter the quantity of hats available:  2\n",
      "Enter the quantity of books available:  3\n",
      "Enter the quantity of keychains available:  4\n"
     ]
    },
    {
     "name": "stdout",
     "output_type": "stream",
     "text": [
      "{'t-shirt': 0, 'mug': 1, 'hat': 2, 'book': 3, 'keychain': 4}\n"
     ]
    }
   ],
   "source": [
    "products = [\"t-shirt\", \"mug\", \"hat\", \"book\", \"keychain\"]\n",
    "inventory = {}\n",
    "\n",
    "def initialize_inventory(products):\n",
    "    for product in products:\n",
    "        valid_input = False\n",
    "        while not valid_input:\n",
    "            try:\n",
    "                quantity = int(input(f\"Enter the quantity of {product}s available: \"))\n",
    "                if quantity >= 0:\n",
    "                    inventory[product] = quantity\n",
    "                    valid_input = True\n",
    "                else:\n",
    "                    print(\"Quantity cannot be negative. Please enter a valid quantity.\")\n",
    "            except ValueError:\n",
    "                print(\"Invalid input. Please enter a valid quantity.\")\n",
    "    return inventory\n",
    "\n",
    "initialize_inventory(products)\n",
    "print(inventory)\n"
   ]
  },
  {
   "cell_type": "code",
   "execution_count": null,
   "id": "88a64fdb-035d-4698-bd1b-febef2b6829d",
   "metadata": {},
   "outputs": [
    {
     "name": "stdin",
     "output_type": "stream",
     "text": [
      "Enter the number of customer orders:  1\n"
     ]
    },
    {
     "name": "stdout",
     "output_type": "stream",
     "text": [
      "1\n"
     ]
    },
    {
     "name": "stdin",
     "output_type": "stream",
     "text": [
      "Enter a product you want to order:  jjj`\n"
     ]
    },
    {
     "name": "stdout",
     "output_type": "stream",
     "text": [
      "We don't have this product. Try another one\n"
     ]
    }
   ],
   "source": [
    "customer_orders = set()\n",
    "def get_customer_orders():\n",
    "    valid_input = False\n",
    "    while not valid_input:\n",
    "        try:\n",
    "            quantity = int(input(\"Enter the number of customer orders: \"))\n",
    "            if quantity >= 0:\n",
    "                valid_input = True\n",
    "                print(quantity)\n",
    "            else:\n",
    "                print(\"Quantity cannot be negative. Please enter a valid quantity.\")\n",
    "        except ValueError:\n",
    "                print(\"Invalid input. Please enter a valid quantity.\")\n",
    "            \n",
    "    for number in range(quantity):\n",
    "        valid_input = False\n",
    "        while not valid_input:\n",
    "            product = input(\"Enter a product you want to order: \")\n",
    "            if product in products and inventory[product] != 0:\n",
    "                valid_input = True\n",
    "                customer_orders.add(product)             \n",
    "            else:\n",
    "                print(\"We don't have this product. Try another one\")\n",
    "    return customer_orders\n",
    "customer_orders = get_customer_orders()\n",
    "print(customer_orders)\n"
   ]
  },
  {
   "cell_type": "code",
   "execution_count": null,
   "id": "15a6b0ac-19c5-4499-bbe1-1ca79b5207da",
   "metadata": {},
   "outputs": [],
   "source": []
  },
  {
   "cell_type": "code",
   "execution_count": null,
   "id": "bf0de0a9-17fc-45fe-a095-6211f9e69508",
   "metadata": {},
   "outputs": [],
   "source": [
    "def print_order_statistics(customer_orders, products):\n",
    "    print(\"Order Statistics:\")\n",
    "    print(\"Total Products Ordered:\", len(customer_orders))\n",
    "    print(\"Percentage of Products Ordered: \", len(customer_orders)/len(products)*100, \"%\")\n",
    "\n",
    "print_order_statistics(customer_orders, products)\n",
    "\n",
    "def update_inventory(customer_orders, inventory):\n",
    "    updated_inventory = {product: quantity - 1 if product in customer_orders else quantity \n",
    "                 for product, quantity in inventory.items()}\n",
    "    updated_inventory = {product: quantity for product, quantity in updated_inventory.items() if quantity > 0}\n",
    "    return updated_inventory\n",
    "inventory = update_inventory(customer_orders, inventory)\n",
    "print(inventory) \n",
    "\n",
    "print(\"The updated inventory: \")\n",
    "def print_updated_inventory(inventory):\n",
    "    [print(product, quantity) for product, quantity in inventory.items()]\n",
    "print_updated_inventory(inventory)"
   ]
  },
  {
   "cell_type": "code",
   "execution_count": null,
   "id": "cd6366b8-7d89-4fb7-ba7b-6ec473048bde",
   "metadata": {},
   "outputs": [],
   "source": [
    "def total_price(customer_orders):\n",
    "    total_price = 0\n",
    "    for product in customer_orders:\n",
    "        valid_input = False\n",
    "        while not valid_input:\n",
    "            try:\n",
    "                price = int(input(f\"Enter the price for {product}: \"))\n",
    "                if price >= 0:\n",
    "                    total_price += price\n",
    "                    valid_input = True\n",
    "                else:\n",
    "                    print(\"Price cannot be negative. Please enter a valid quantity.\")\n",
    "            except ValueError:\n",
    "                print(\"Invalid input. Please enter a price.\") \n",
    "    return total_price\n",
    "        \n",
    "total = total_price(customer_orders)\n",
    "print(\"Total price is: \", total)\n"
   ]
  }
 ],
 "metadata": {
  "kernelspec": {
   "display_name": "Python 3 (ipykernel)",
   "language": "python",
   "name": "python3"
  },
  "language_info": {
   "codemirror_mode": {
    "name": "ipython",
    "version": 3
   },
   "file_extension": ".py",
   "mimetype": "text/x-python",
   "name": "python",
   "nbconvert_exporter": "python",
   "pygments_lexer": "ipython3",
   "version": "3.11.7"
  }
 },
 "nbformat": 4,
 "nbformat_minor": 5
}
